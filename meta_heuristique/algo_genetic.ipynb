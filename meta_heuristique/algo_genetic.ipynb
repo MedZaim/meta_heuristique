{
 "cells": [
  {
   "cell_type": "code",
   "id": "initial_id",
   "metadata": {
    "collapsed": true,
    "ExecuteTime": {
     "end_time": "2024-10-25T06:56:06.463310Z",
     "start_time": "2024-10-25T06:56:06.433863Z"
    }
   },
   "source": [
    "import numpy as np\n",
    "\n",
    "def f(x):\n",
    "    return x[0]+x[1]-(x[2]+x[3])+x[4]+x[5]-(x[6]+x[7])\n",
    "\n",
    "def croiser(x1,x2):\n",
    "    index = np.random.randint(len(x1))\n",
    "    for i in range(index, len(x1)):\n",
    "        x1[i], x2[i] = x2[i], x1[i]\n",
    "        \n",
    "X = []\n",
    "\n",
    "for i in range(4):\n",
    "     X.append(np.random.randint(1,9,size=8))\n",
    "X"
   ],
   "outputs": [
    {
     "data": {
      "text/plain": [
       "[array([4, 2, 1, 6, 5, 3, 7, 6]),\n",
       " array([2, 8, 3, 6, 4, 2, 7, 6]),\n",
       " array([7, 4, 4, 8, 3, 8, 5, 8]),\n",
       " array([5, 4, 6, 2, 6, 6, 8, 4])]"
      ]
     },
     "execution_count": 53,
     "metadata": {},
     "output_type": "execute_result"
    }
   ],
   "execution_count": 53
  },
  {
   "metadata": {
    "ExecuteTime": {
     "end_time": "2024-10-25T06:56:06.598575Z",
     "start_time": "2024-10-25T06:56:06.576365Z"
    }
   },
   "cell_type": "code",
   "source": [
    "fX = [f(x) for x in X]\n",
    "fX"
   ],
   "id": "ea3b84a4e46d1154",
   "outputs": [
    {
     "data": {
      "text/plain": [
       "[-6, -6, -3, 1]"
      ]
     },
     "execution_count": 54,
     "metadata": {},
     "output_type": "execute_result"
    }
   ],
   "execution_count": 54
  },
  {
   "metadata": {
    "ExecuteTime": {
     "end_time": "2024-10-25T06:56:06.716418Z",
     "start_time": "2024-10-25T06:56:06.696809Z"
    }
   },
   "cell_type": "code",
   "source": [
    "# Sort X based on fX\n",
    "X_sorted = [x for _, x in sorted(zip(fX, X),reverse=True ,key=lambda pair: pair[0])]\n",
    "\n",
    "X_sorted"
   ],
   "id": "45013bbffcef90d8",
   "outputs": [
    {
     "data": {
      "text/plain": [
       "[array([5, 4, 6, 2, 6, 6, 8, 4]),\n",
       " array([7, 4, 4, 8, 3, 8, 5, 8]),\n",
       " array([4, 2, 1, 6, 5, 3, 7, 6]),\n",
       " array([2, 8, 3, 6, 4, 2, 7, 6])]"
      ]
     },
     "execution_count": 55,
     "metadata": {},
     "output_type": "execute_result"
    }
   ],
   "execution_count": 55
  },
  {
   "metadata": {
    "ExecuteTime": {
     "end_time": "2024-10-25T06:56:06.777088Z",
     "start_time": "2024-10-25T06:56:06.759083Z"
    }
   },
   "cell_type": "code",
   "source": [
    "fX_sorted = [f(x) for x in X_sorted]\n",
    "fX_sorted\n"
   ],
   "id": "6c148604b6b5ace8",
   "outputs": [
    {
     "data": {
      "text/plain": [
       "[1, -3, -6, -6]"
      ]
     },
     "execution_count": 56,
     "metadata": {},
     "output_type": "execute_result"
    }
   ],
   "execution_count": 56
  },
  {
   "metadata": {
    "ExecuteTime": {
     "end_time": "2024-10-25T06:56:06.851676Z",
     "start_time": "2024-10-25T06:56:06.807578Z"
    }
   },
   "cell_type": "code",
   "source": [
    "croiser(X_sorted[0],X_sorted[1])\n",
    "croiser(X_sorted[1],X_sorted[2])\n",
    "croiser(X_sorted[0], X_sorted[2])\n",
    "for j in range(np.random.randint(8)):\n",
    "    croiser(X_sorted[0], X_sorted[3])\n",
    "X_sorted\n",
    "X_sorted"
   ],
   "id": "d3b24cc10663fd77",
   "outputs": [
    {
     "data": {
      "text/plain": [
       "[array([2, 8, 3, 6, 5, 8, 8, 4]),\n",
       " array([7, 4, 4, 8, 3, 3, 7, 6]),\n",
       " array([5, 4, 6, 2, 6, 6, 5, 8]),\n",
       " array([4, 2, 1, 6, 4, 2, 7, 6])]"
      ]
     },
     "execution_count": 57,
     "metadata": {},
     "output_type": "execute_result"
    }
   ],
   "execution_count": 57
  },
  {
   "metadata": {
    "ExecuteTime": {
     "end_time": "2024-10-25T06:56:06.930003Z",
     "start_time": "2024-10-25T06:56:06.900958Z"
    }
   },
   "cell_type": "code",
   "source": [
    "fX_sorted = [f(x) for x in X_sorted]\n",
    "fX_sorted"
   ],
   "id": "f40a4e244fc14c8f",
   "outputs": [
    {
     "data": {
      "text/plain": [
       "[2, -8, 0, -8]"
      ]
     },
     "execution_count": 58,
     "metadata": {},
     "output_type": "execute_result"
    }
   ],
   "execution_count": 58
  }
 ],
 "metadata": {
  "kernelspec": {
   "display_name": "Python 3",
   "language": "python",
   "name": "python3"
  },
  "language_info": {
   "codemirror_mode": {
    "name": "ipython",
    "version": 2
   },
   "file_extension": ".py",
   "mimetype": "text/x-python",
   "name": "python",
   "nbconvert_exporter": "python",
   "pygments_lexer": "ipython2",
   "version": "2.7.6"
  }
 },
 "nbformat": 4,
 "nbformat_minor": 5
}
