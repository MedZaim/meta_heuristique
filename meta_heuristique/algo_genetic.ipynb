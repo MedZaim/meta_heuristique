{
 "cells": [
  {
   "cell_type": "code",
   "id": "initial_id",
   "metadata": {
    "collapsed": true,
    "ExecuteTime": {
     "end_time": "2024-10-25T18:27:56.195348Z",
     "start_time": "2024-10-25T18:27:56.177356Z"
    }
   },
   "source": [
    "import numpy as np\n",
    "\n",
    "def f(x):\n",
    "    return x[0]+x[1]-(x[2]+x[3])+x[4]+x[5]-(x[6]+x[7])\n",
    "\n",
    "def croiser(X):\n",
    "    i,j = np.random.choice(len(X),size=2,replace=False)\n",
    "    index = np.random.randint(len(X[0]))\n",
    "    f1 = X[i]   #fis 1\n",
    "    f2 = X[j]   #fis 2\n",
    "    for k in range(index, len(X[0])):\n",
    "        f2[k], f1[k] = X[i][k], X[j][k]\n",
    "    return f1,f2\n",
    "\n",
    "def mutation(x):\n",
    "    rand_index = np.random.randint(len(x))\n",
    "    x[rand_index] = np.random.randint(0,10)\n",
    "\n"
   ],
   "outputs": [],
   "execution_count": 67
  },
  {
   "metadata": {
    "ExecuteTime": {
     "end_time": "2024-10-25T18:27:56.255Z",
     "start_time": "2024-10-25T18:27:56.236612Z"
    }
   },
   "cell_type": "code",
   "source": [
    "\n",
    "X = []\n",
    "for i in range(4):\n",
    "     X.append(np.random.randint(0,10,size=8))\n",
    "X"
   ],
   "id": "5eeb0dd1035aae2a",
   "outputs": [
    {
     "data": {
      "text/plain": [
       "[array([0, 0, 4, 7, 6, 8, 1, 0]),\n",
       " array([6, 1, 0, 7, 8, 9, 7, 9]),\n",
       " array([6, 8, 1, 9, 1, 6, 6, 3]),\n",
       " array([5, 1, 4, 8, 4, 9, 4, 1])]"
      ]
     },
     "execution_count": 68,
     "metadata": {},
     "output_type": "execute_result"
    }
   ],
   "execution_count": 68
  },
  {
   "metadata": {
    "ExecuteTime": {
     "end_time": "2024-10-25T18:27:56.293092Z",
     "start_time": "2024-10-25T18:27:56.270022Z"
    }
   },
   "cell_type": "code",
   "source": [
    "fX = [f(x) for x in X]\n",
    "fX"
   ],
   "id": "ea3b84a4e46d1154",
   "outputs": [
    {
     "data": {
      "text/plain": [
       "[2, 1, 2, 2]"
      ]
     },
     "execution_count": 69,
     "metadata": {},
     "output_type": "execute_result"
    }
   ],
   "execution_count": 69
  },
  {
   "metadata": {
    "ExecuteTime": {
     "end_time": "2024-10-25T18:27:56.343712Z",
     "start_time": "2024-10-25T18:27:56.330705Z"
    }
   },
   "cell_type": "code",
   "source": [
    "# Sort X based on fX\n",
    "X_sorted = [x for _, x in sorted(zip(fX, X),reverse=True ,key=lambda pair: pair[0])]\n",
    "\n",
    "X_sorted"
   ],
   "id": "45013bbffcef90d8",
   "outputs": [
    {
     "data": {
      "text/plain": [
       "[array([0, 0, 4, 7, 6, 8, 1, 0]),\n",
       " array([6, 8, 1, 9, 1, 6, 6, 3]),\n",
       " array([5, 1, 4, 8, 4, 9, 4, 1]),\n",
       " array([6, 1, 0, 7, 8, 9, 7, 9])]"
      ]
     },
     "execution_count": 70,
     "metadata": {},
     "output_type": "execute_result"
    }
   ],
   "execution_count": 70
  },
  {
   "metadata": {
    "ExecuteTime": {
     "end_time": "2024-10-25T18:27:56.386449Z",
     "start_time": "2024-10-25T18:27:56.362929Z"
    }
   },
   "cell_type": "code",
   "source": [
    "fX_sorted = [f(x) for x in X_sorted]\n",
    "fX_sorted\n"
   ],
   "id": "6c148604b6b5ace8",
   "outputs": [
    {
     "data": {
      "text/plain": [
       "[2, 2, 2, 1]"
      ]
     },
     "execution_count": 71,
     "metadata": {},
     "output_type": "execute_result"
    }
   ],
   "execution_count": 71
  },
  {
   "metadata": {
    "ExecuteTime": {
     "end_time": "2024-10-25T18:27:56.437216Z",
     "start_time": "2024-10-25T18:27:56.421385Z"
    }
   },
   "cell_type": "code",
   "source": [
    "croiser(X_sorted[0],X_sorted[1])\n",
    "croiser(X_sorted[1],X_sorted[2])\n",
    "croiser(X_sorted[0], X_sorted[2])\n",
    "for j in range(np.random.randint(8)):\n",
    "    croiser(X_sorted[0], X_sorted[3])\n",
    "X_sorted\n",
    "X_sorted "
   ],
   "id": "d3b24cc10663fd77",
   "outputs": [
    {
     "data": {
      "text/plain": [
       "[array([0, 1, 0, 7, 6, 9, 7, 9]),\n",
       " array([5, 1, 4, 8, 4, 9, 4, 1]),\n",
       " array([6, 8, 1, 7, 1, 6, 6, 3]),\n",
       " array([6, 0, 4, 9, 8, 8, 1, 0])]"
      ]
     },
     "execution_count": 72,
     "metadata": {},
     "output_type": "execute_result"
    }
   ],
   "execution_count": 72
  },
  {
   "metadata": {
    "ExecuteTime": {
     "end_time": "2024-10-25T18:27:56.486330Z",
     "start_time": "2024-10-25T18:27:56.459041Z"
    }
   },
   "cell_type": "code",
   "source": [
    "fX_sorted = [f(x) for x in X_sorted]\n",
    "fX_sorted"
   ],
   "id": "f40a4e244fc14c8f",
   "outputs": [
    {
     "data": {
      "text/plain": [
       "[-7, 2, 4, 8]"
      ]
     },
     "execution_count": 73,
     "metadata": {},
     "output_type": "execute_result"
    }
   ],
   "execution_count": 73
  },
  {
   "metadata": {
    "ExecuteTime": {
     "end_time": "2024-10-25T18:27:56.549339Z",
     "start_time": "2024-10-25T18:27:56.540086Z"
    }
   },
   "cell_type": "code",
   "source": "",
   "id": "69fd10786d2dc109",
   "outputs": [],
   "execution_count": null
  }
 ],
 "metadata": {
  "kernelspec": {
   "display_name": "Python 3",
   "language": "python",
   "name": "python3"
  },
  "language_info": {
   "codemirror_mode": {
    "name": "ipython",
    "version": 2
   },
   "file_extension": ".py",
   "mimetype": "text/x-python",
   "name": "python",
   "nbconvert_exporter": "python",
   "pygments_lexer": "ipython2",
   "version": "2.7.6"
  }
 },
 "nbformat": 4,
 "nbformat_minor": 5
}
