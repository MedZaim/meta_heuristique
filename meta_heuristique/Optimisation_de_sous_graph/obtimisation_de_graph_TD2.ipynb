{
 "cells": [
  {
   "cell_type": "code",
   "id": "initial_id",
   "metadata": {
    "collapsed": true,
    "ExecuteTime": {
     "end_time": "2024-11-04T16:11:18.462280Z",
     "start_time": "2024-11-04T16:11:18.457652Z"
    }
   },
   "source": [
    "import matplotlib.pyplot as plt\n",
    "import numpy as np"
   ],
   "outputs": [],
   "execution_count": 153
  },
  {
   "metadata": {
    "ExecuteTime": {
     "end_time": "2024-11-04T16:11:18.486767Z",
     "start_time": "2024-11-04T16:11:18.475602Z"
    }
   },
   "cell_type": "code",
   "source": [
    "def f(X):\n",
    "    X_array = np.array(X)\n",
    "    nv = np.sum(X_array, axis=1)  \n",
    "    ne = (nv * (nv - 1)) / 2  \n",
    "    aptitude = ne - 0.5 * nv  \n",
    "    #print(f'nv ={nv}')\n",
    "    return aptitude.tolist()\n",
    "\n"
   ],
   "id": "937953aff4dfe4af",
   "outputs": [],
   "execution_count": 154
  },
  {
   "metadata": {
    "ExecuteTime": {
     "end_time": "2024-11-04T16:11:18.510788Z",
     "start_time": "2024-11-04T16:11:18.505787Z"
    }
   },
   "cell_type": "code",
   "source": [
    "def classer_sur_f_objectif(X):\n",
    "    fX = f(X)\n",
    "    X_sorted = [x for _, x in sorted(zip(fX, X), key=lambda pair: pair[0], reverse=True)]\n",
    "    X[:] = X_sorted"
   ],
   "id": "d26679551a73eef3",
   "outputs": [],
   "execution_count": 155
  },
  {
   "metadata": {
    "ExecuteTime": {
     "end_time": "2024-11-04T16:11:18.537828Z",
     "start_time": "2024-11-04T16:11:18.527348Z"
    }
   },
   "cell_type": "code",
   "source": [
    "def selectioner_et_croiser(X):\n",
    "    y = f(X)  \n",
    "    \n",
    "    # Adjust `y` if it contains any non-positive values\n",
    "    if min(y) <= 0:\n",
    "        min_y = min(y)\n",
    "        y = [val + abs(min_y) + 1 for val in y]\n",
    "    \n",
    "    # Normalize `y` to make it a percentage distribution\n",
    "    objectif_total = sum(y)\n",
    "    p = [(val / objectif_total) for val in y]\n",
    "    \n",
    "    \n",
    "    selecting_index_list = np.random.choice(len(X), size=len(X), p=np.array(p))\n",
    "    X_selected = [X[i] for i in selecting_index_list]\n",
    "    \n",
    "    # Perform single-point crossover at a random position `i`\n",
    "    F = X_selected.copy()\n",
    "    for fi in range(0, len(F) - 1, 2):  # Ensure fi+1 is in range\n",
    "        if fi + 1 < len(F):  # Check if there is a pair\n",
    "            i = np.random.randint(1, len(F[0]) - 1)\n",
    "            # Perform crossover\n",
    "            F[fi][i:], F[fi + 1][i:] = F[fi + 1][i:], F[fi][i:]\n",
    "\n",
    "    X[:] = F[:]  # Update the original population\n",
    "    return F"
   ],
   "id": "3f3cf7d73d6d69d3",
   "outputs": [],
   "execution_count": 156
  },
  {
   "metadata": {
    "ExecuteTime": {
     "end_time": "2024-11-04T16:11:18.566544Z",
     "start_time": "2024-11-04T16:11:18.556869Z"
    }
   },
   "cell_type": "code",
   "source": [
    "def mutation_p(X, p):\n",
    "    for x in X:\n",
    "        nb_mutation = int(p * (len(X[0]) - 1))\n",
    "        for i in range(nb_mutation):\n",
    "            index_to_mutate = np.random.randint(len(X[0]))\n",
    "            new_gen = np.random.randint(2)\n",
    "            x[index_to_mutate] = new_gen\n",
    "    return X  # Move this outside of the loop\n"
   ],
   "id": "7eb65fe337c29fd",
   "outputs": [],
   "execution_count": 157
  },
  {
   "metadata": {
    "ExecuteTime": {
     "end_time": "2024-11-04T16:11:18.590374Z",
     "start_time": "2024-11-04T16:11:18.582890Z"
    }
   },
   "cell_type": "code",
   "source": [
    "def get_objectif_moyen(X):\n",
    "    Y = f(X)\n",
    "    return sum(Y)/len(Y)"
   ],
   "id": "d416b856e0144aed",
   "outputs": [],
   "execution_count": 158
  },
  {
   "metadata": {
    "ExecuteTime": {
     "end_time": "2024-11-04T16:11:18.619589Z",
     "start_time": "2024-11-04T16:11:18.612080Z"
    }
   },
   "cell_type": "code",
   "source": [
    "def display_history(valus):\n",
    "    n = np.arange(1, len(valus) + 1)\n",
    "    plt.figure(figsize=(8, 4))\n",
    "    plt.plot(n, valus, label=\"Variation du objectif moyenne\")\n",
    "    plt.legend()\n",
    "    plt.xlabel(\"Iteration\")\n",
    "    plt.ylabel(\"Objectif Moyenne\")\n",
    "    plt.title(\"Variation du objectif moyenne ou coure de l'avancement\")\n",
    "    plt.show()"
   ],
   "id": "eceaa72f38e91aa9",
   "outputs": [],
   "execution_count": 159
  },
  {
   "metadata": {
    "ExecuteTime": {
     "end_time": "2024-11-04T16:11:18.649549Z",
     "start_time": "2024-11-04T16:11:18.641989Z"
    }
   },
   "cell_type": "code",
   "source": [
    "def obtimisation_de_sous_graph(X, p_mut_par_bit, n_itr):\n",
    "    obj_moyen_history = []\n",
    "    for i in range(n_itr):\n",
    "        classer_sur_f_objectif(X)\n",
    "        X_decendants = selectioner_et_croiser(X)\n",
    "        X[:] = mutation_p(X_decendants, p_mut_par_bit)\n",
    "        obj_moyen_history.append(get_objectif_moyen(X))\n",
    "    \n",
    "    # Display history once, after all iterations\n",
    "    display_history(obj_moyen_history)\n",
    "    print(\"Optimization complete!\")\n",
    "\n"
   ],
   "id": "45e5dfafb5e6bbea",
   "outputs": [],
   "execution_count": 160
  },
  {
   "metadata": {
    "ExecuteTime": {
     "end_time": "2024-11-04T16:11:18.680186Z",
     "start_time": "2024-11-04T16:11:18.668773Z"
    }
   },
   "cell_type": "code",
   "source": [
    "X = [np.random.randint(0, 2, size=5) for _ in range(4)]\n",
    "X"
   ],
   "id": "fecb6e92604bd30f",
   "outputs": [
    {
     "data": {
      "text/plain": [
       "[array([1, 1, 0, 0, 1], dtype=int32),\n",
       " array([1, 0, 0, 0, 0], dtype=int32),\n",
       " array([0, 0, 1, 0, 0], dtype=int32),\n",
       " array([1, 1, 0, 0, 1], dtype=int32)]"
      ]
     },
     "execution_count": 161,
     "metadata": {},
     "output_type": "execute_result"
    }
   ],
   "execution_count": 161
  },
  {
   "metadata": {
    "ExecuteTime": {
     "end_time": "2024-11-04T16:11:18.709921Z",
     "start_time": "2024-11-04T16:11:18.698688Z"
    }
   },
   "cell_type": "code",
   "source": [
    "Y = f(X)\n",
    "Y"
   ],
   "id": "69125fd89b43e1b3",
   "outputs": [
    {
     "name": "stdout",
     "output_type": "stream",
     "text": [
      "nv =[3 1 1 3]\n"
     ]
    },
    {
     "data": {
      "text/plain": [
       "[1.5, -0.5, -0.5, 1.5]"
      ]
     },
     "execution_count": 162,
     "metadata": {},
     "output_type": "execute_result"
    }
   ],
   "execution_count": 162
  },
  {
   "metadata": {
    "ExecuteTime": {
     "end_time": "2024-11-04T16:11:19.042091Z",
     "start_time": "2024-11-04T16:11:18.743096Z"
    }
   },
   "cell_type": "code",
   "source": [
    "X = [np.random.randint(0, 2, size=5) for _ in range(4)]\n",
    "obtimisation_de_sous_graph(X, 0.5, 50)"
   ],
   "id": "d9117577af5dcbcb",
   "outputs": [
    {
     "name": "stdout",
     "output_type": "stream",
     "text": [
      "nv =[2 3 3 3]\n",
      "nv =[3 3 3 2]\n",
      "nv =[2 5 5 2]\n",
      "nv =[2 5 5 2]\n",
      "nv =[5 5 2 2]\n",
      "nv =[2 2 2 2]\n",
      "nv =[2 2 2 2]\n",
      "nv =[2 2 2 2]\n",
      "nv =[5 1 5 5]\n",
      "nv =[5 1 5 5]\n",
      "nv =[5 5 5 1]\n",
      "nv =[4 4 4 4]\n",
      "nv =[4 4 4 4]\n",
      "nv =[4 4 4 4]\n",
      "nv =[4 4 4 4]\n",
      "nv =[4 4 4 4]\n",
      "nv =[4 4 4 4]\n",
      "nv =[4 4 4 4]\n",
      "nv =[4 4 4 4]\n",
      "nv =[4 4 4 4]\n",
      "nv =[2 2 2 2]\n",
      "nv =[2 2 2 2]\n",
      "nv =[2 2 2 2]\n",
      "nv =[3 3 3 3]\n",
      "nv =[3 3 3 3]\n",
      "nv =[3 3 3 3]\n",
      "nv =[2 2 2 2]\n",
      "nv =[2 2 2 2]\n",
      "nv =[2 2 2 2]\n",
      "nv =[1 1 1 1]\n",
      "nv =[1 1 1 1]\n",
      "nv =[1 1 1 1]\n",
      "nv =[2 2 2 2]\n",
      "nv =[2 2 2 2]\n",
      "nv =[2 2 2 2]\n",
      "nv =[3 3 3 3]\n",
      "nv =[3 3 3 3]\n",
      "nv =[3 3 3 3]\n",
      "nv =[4 4 4 4]\n",
      "nv =[4 4 4 4]\n",
      "nv =[4 4 4 4]\n",
      "nv =[3 3 3 3]\n",
      "nv =[3 3 3 3]\n",
      "nv =[3 3 3 3]\n",
      "nv =[3 3 3 3]\n",
      "nv =[3 3 3 3]\n",
      "nv =[3 3 3 3]\n",
      "nv =[4 4 4 4]\n",
      "nv =[4 4 4 4]\n",
      "nv =[4 4 4 4]\n",
      "nv =[2 2 2 2]\n",
      "nv =[2 2 2 2]\n",
      "nv =[2 2 2 2]\n",
      "nv =[2 2 2 2]\n",
      "nv =[2 2 2 2]\n",
      "nv =[2 2 2 2]\n",
      "nv =[3 3 3 3]\n",
      "nv =[3 3 3 3]\n",
      "nv =[3 3 3 3]\n",
      "nv =[2 2 2 2]\n",
      "nv =[2 2 2 2]\n",
      "nv =[2 2 2 2]\n",
      "nv =[2 2 2 2]\n",
      "nv =[2 2 2 2]\n",
      "nv =[2 2 2 2]\n",
      "nv =[3 3 3 3]\n",
      "nv =[3 3 3 3]\n",
      "nv =[3 3 3 3]\n",
      "nv =[2 2 2 2]\n",
      "nv =[2 2 2 2]\n",
      "nv =[2 2 2 2]\n",
      "nv =[2 2 2 2]\n",
      "nv =[2 2 2 2]\n",
      "nv =[2 2 2 2]\n",
      "nv =[3 3 3 3]\n",
      "nv =[3 3 3 3]\n",
      "nv =[3 3 3 3]\n",
      "nv =[4 4 4 4]\n",
      "nv =[4 4 4 4]\n",
      "nv =[4 4 4 4]\n",
      "nv =[2 2 2 2]\n",
      "nv =[2 2 2 2]\n",
      "nv =[2 2 2 2]\n",
      "nv =[4 4 4 4]\n",
      "nv =[4 4 4 4]\n",
      "nv =[4 4 4 4]\n",
      "nv =[2 2 2 2]\n",
      "nv =[2 2 2 2]\n",
      "nv =[2 2 2 2]\n",
      "nv =[4 4 4 4]\n",
      "nv =[4 4 4 4]\n",
      "nv =[4 4 4 4]\n",
      "nv =[1 1 1 1]\n",
      "nv =[1 1 1 1]\n",
      "nv =[1 1 1 1]\n",
      "nv =[2 2 2 2]\n",
      "nv =[2 2 2 2]\n",
      "nv =[2 2 2 2]\n",
      "nv =[2 2 2 2]\n",
      "nv =[2 2 2 2]\n",
      "nv =[2 2 2 2]\n",
      "nv =[4 4 4 4]\n",
      "nv =[4 4 4 4]\n",
      "nv =[4 4 4 4]\n",
      "nv =[2 2 2 2]\n",
      "nv =[2 2 2 2]\n",
      "nv =[2 2 2 2]\n",
      "nv =[2 2 2 2]\n",
      "nv =[2 2 2 2]\n",
      "nv =[2 2 2 2]\n",
      "nv =[3 3 3 3]\n",
      "nv =[3 3 3 3]\n",
      "nv =[3 3 3 3]\n",
      "nv =[4 4 4 4]\n",
      "nv =[4 4 4 4]\n",
      "nv =[4 4 4 4]\n",
      "nv =[4 4 4 4]\n",
      "nv =[4 4 4 4]\n",
      "nv =[4 4 4 4]\n",
      "nv =[2 2 2 2]\n",
      "nv =[2 2 2 2]\n",
      "nv =[2 2 2 2]\n",
      "nv =[3 3 3 3]\n",
      "nv =[3 3 3 3]\n",
      "nv =[3 3 3 3]\n",
      "nv =[2 2 2 2]\n",
      "nv =[2 2 2 2]\n",
      "nv =[2 2 2 2]\n",
      "nv =[4 4 4 4]\n",
      "nv =[4 4 4 4]\n",
      "nv =[4 4 4 4]\n",
      "nv =[3 3 3 3]\n",
      "nv =[3 3 3 3]\n",
      "nv =[3 3 3 3]\n",
      "nv =[2 2 2 2]\n",
      "nv =[2 2 2 2]\n",
      "nv =[2 2 2 2]\n",
      "nv =[2 2 2 2]\n",
      "nv =[2 2 2 2]\n",
      "nv =[2 2 2 2]\n",
      "nv =[2 2 2 2]\n",
      "nv =[2 2 2 2]\n",
      "nv =[2 2 2 2]\n",
      "nv =[2 2 2 2]\n",
      "nv =[2 2 2 2]\n",
      "nv =[2 2 2 2]\n",
      "nv =[3 3 3 3]\n",
      "nv =[3 3 3 3]\n",
      "nv =[3 3 3 3]\n",
      "nv =[2 2 2 2]\n"
     ]
    },
    {
     "data": {
      "text/plain": [
       "<Figure size 800x400 with 1 Axes>"
      ],
      "image/png": "[encoded data removed]"
     },
     "metadata": {},
     "output_type": "display_data"
    },
    {
     "name": "stdout",
     "output_type": "stream",
     "text": [
      "Optimization complete!\n"
     ]
    }
   ],
   "execution_count": 163
  },
  {
   "metadata": {
    "ExecuteTime": {
     "end_time": "2024-11-04T16:11:19.069887Z",
     "start_time": "2024-11-04T16:11:19.061654Z"
    }
   },
   "cell_type": "code",
   "source": "X",
   "id": "d99d1f5a8382304d",
   "outputs": [
    {
     "data": {
      "text/plain": [
       "[array([0, 0, 1, 1, 0], dtype=int32),\n",
       " array([0, 0, 1, 1, 0], dtype=int32),\n",
       " array([0, 0, 1, 1, 0], dtype=int32),\n",
       " array([0, 0, 1, 1, 0], dtype=int32)]"
      ]
     },
     "execution_count": 164,
     "metadata": {},
     "output_type": "execute_result"
    }
   ],
   "execution_count": 164
  }
 ],
 "metadata": {
  "kernelspec": {
   "display_name": "Python 3",
   "language": "python",
   "name": "python3"
  },
  "language_info": {
   "codemirror_mode": {
    "name": "ipython",
    "version": 2
   },
   "file_extension": ".py",
   "mimetype": "text/x-python",
   "name": "python",
   "nbconvert_exporter": "python",
   "pygments_lexer": "ipython2",
   "version": "2.7.6"
  }
 },
 "nbformat": 4,
 "nbformat_minor": 5
}
