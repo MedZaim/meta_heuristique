{
 "cells": [
  {
   "cell_type": "code",
   "id": "initial_id",
   "metadata": {
    "collapsed": true,
    "ExecuteTime": {
     "end_time": "2024-10-25T21:14:37.261607Z",
     "start_time": "2024-10-25T21:14:37.217882Z"
    }
   },
   "source": [
    "import numpy as np\n",
    "\n",
    "def f(x):\n",
    "    return x[0]+x[1]-(x[2]+x[3])+x[4]+x[5]-(x[6]+x[7])\n",
    "# \n",
    "# def croiser(x1,x2):\n",
    "#     index = np.random.randint(len(x1))\n",
    "#     for i in range(index, len(x1)):\n",
    "#         x1[i], x2[i] = x2[i], x1[i]\n",
    "\n",
    "\n",
    "def croiser(X):\n",
    "    i, j = np.random.choice(len(X), size=2, replace=False)\n",
    "    index = np.random.randint(len(X[0]))\n",
    "    f1 = X[i]  #fis 1\n",
    "    f2 = X[j]  #fis 2\n",
    "    for k in range(index, len(X[0])):\n",
    "        f2[k], f1[k] = X[i][k], X[j][k]\n",
    "    X.append(f1)\n",
    "    return f1, f2\n",
    "\n",
    "\n",
    "def mutation(x):\n",
    "    rand_index = np.random.randint(len(x))\n",
    "    x[rand_index] = np.random.randint(0, 10)\n",
    "\n",
    "\n"
   ],
   "outputs": [],
   "execution_count": 20
  },
  {
   "metadata": {
    "ExecuteTime": {
     "end_time": "2024-10-25T21:14:37.311438Z",
     "start_time": "2024-10-25T21:14:37.276613Z"
    }
   },
   "cell_type": "code",
   "source": [
    "X = []\n",
    "\n",
    "for i in range(4):\n",
    "     X.append(np.random.randint(1,9,size=8))\n",
    "X"
   ],
   "id": "a54624bf345b53a2",
   "outputs": [
    {
     "data": {
      "text/plain": [
       "[array([8, 4, 1, 5, 2, 1, 4, 6]),\n",
       " array([8, 6, 4, 8, 1, 7, 8, 6]),\n",
       " array([5, 2, 8, 1, 6, 7, 5, 5]),\n",
       " array([7, 3, 5, 6, 8, 6, 1, 3])]"
      ]
     },
     "execution_count": 21,
     "metadata": {},
     "output_type": "execute_result"
    }
   ],
   "execution_count": 21
  },
  {
   "metadata": {
    "ExecuteTime": {
     "end_time": "2024-10-25T21:14:37.457446Z",
     "start_time": "2024-10-25T21:14:37.443363Z"
    }
   },
   "cell_type": "code",
   "source": [
    "fX = [f(x) for x in X]\n",
    "fX"
   ],
   "id": "ea3b84a4e46d1154",
   "outputs": [
    {
     "data": {
      "text/plain": [
       "[-1, -4, 1, 9]"
      ]
     },
     "execution_count": 22,
     "metadata": {},
     "output_type": "execute_result"
    }
   ],
   "execution_count": 22
  },
  {
   "metadata": {
    "ExecuteTime": {
     "end_time": "2024-10-25T21:14:37.631439Z",
     "start_time": "2024-10-25T21:14:37.605097Z"
    }
   },
   "cell_type": "code",
   "source": [
    "# Sort X based on fX\n",
    "X_sorted = [x for _, x in sorted(zip(fX, X),reverse=True ,key=lambda pair: pair[0])]\n",
    "\n",
    "X_sorted"
   ],
   "id": "45013bbffcef90d8",
   "outputs": [
    {
     "data": {
      "text/plain": [
       "[array([7, 3, 5, 6, 8, 6, 1, 3]),\n",
       " array([5, 2, 8, 1, 6, 7, 5, 5]),\n",
       " array([8, 4, 1, 5, 2, 1, 4, 6]),\n",
       " array([8, 6, 4, 8, 1, 7, 8, 6])]"
      ]
     },
     "execution_count": 23,
     "metadata": {},
     "output_type": "execute_result"
    }
   ],
   "execution_count": 23
  },
  {
   "metadata": {
    "ExecuteTime": {
     "end_time": "2024-10-25T21:14:37.717794Z",
     "start_time": "2024-10-25T21:14:37.694740Z"
    }
   },
   "cell_type": "code",
   "source": [
    "fX_sorted = [f(x) for x in X_sorted]\n",
    "fX_sorted\n"
   ],
   "id": "6c148604b6b5ace8",
   "outputs": [
    {
     "data": {
      "text/plain": [
       "[9, 1, -1, -4]"
      ]
     },
     "execution_count": 24,
     "metadata": {},
     "output_type": "execute_result"
    }
   ],
   "execution_count": 24
  },
  {
   "metadata": {
    "ExecuteTime": {
     "end_time": "2024-10-25T21:14:37.795716Z",
     "start_time": "2024-10-25T21:14:37.766961Z"
    }
   },
   "cell_type": "code",
   "source": [
    "# croiser(X_sorted[0],X_sorted[1])\n",
    "# croiser(X_sorted[1],X_sorted[2])\n",
    "# croiser(X_sorted[0], X_sorted[2])\n",
    "# for j in range(np.random.randint(8)):\n",
    "#     croiser(X_sorted[0], X_sorted[3])\n",
    "# X_sorted\n",
    "# X_sorted\n",
    "croiser(X_sorted)"
   ],
   "id": "d3b24cc10663fd77",
   "outputs": [
    {
     "data": {
      "text/plain": [
       "(array([8, 6, 4, 8, 1, 7, 8, 6]), array([7, 3, 5, 6, 8, 6, 1, 3]))"
      ]
     },
     "execution_count": 25,
     "metadata": {},
     "output_type": "execute_result"
    }
   ],
   "execution_count": 25
  },
  {
   "metadata": {
    "ExecuteTime": {
     "end_time": "2024-10-25T21:14:37.889961Z",
     "start_time": "2024-10-25T21:14:37.873084Z"
    }
   },
   "cell_type": "code",
   "source": [
    "fX_sorted = [f(x) for x in X_sorted]\n",
    "fX_sorted"
   ],
   "id": "f40a4e244fc14c8f",
   "outputs": [
    {
     "data": {
      "text/plain": [
       "[-4, 1, -1, 9, -4]"
      ]
     },
     "execution_count": 26,
     "metadata": {},
     "output_type": "execute_result"
    }
   ],
   "execution_count": 26
  }
 ],
 "metadata": {
  "kernelspec": {
   "display_name": "Python 3",
   "language": "python",
   "name": "python3"
  },
  "language_info": {
   "codemirror_mode": {
    "name": "ipython",
    "version": 2
   },
   "file_extension": ".py",
   "mimetype": "text/x-python",
   "name": "python",
   "nbconvert_exporter": "python",
   "pygments_lexer": "ipython2",
   "version": "2.7.6"
  }
 },
 "nbformat": 4,
 "nbformat_minor": 5
}
